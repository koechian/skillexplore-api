{
 "cells": [
  {
   "cell_type": "code",
   "execution_count": 1,
   "metadata": {},
   "outputs": [
    {
     "name": "stdout",
     "output_type": "stream",
     "text": [
      "Requirement already satisfied: simplet5 in /Users/koechian/anaconda3/envs/skillexplore/lib/python3.10/site-packages (0.1.4)\n",
      "Requirement already satisfied: transformers in /Users/koechian/anaconda3/envs/skillexplore/lib/python3.10/site-packages (4.16.2)\n",
      "Requirement already satisfied: numpy in /Users/koechian/anaconda3/envs/skillexplore/lib/python3.10/site-packages (from simplet5) (1.26.2)\n",
      "Requirement already satisfied: pandas in /Users/koechian/anaconda3/envs/skillexplore/lib/python3.10/site-packages (from simplet5) (2.1.1)\n",
      "Requirement already satisfied: sentencepiece in /Users/koechian/anaconda3/envs/skillexplore/lib/python3.10/site-packages (from simplet5) (0.1.99)\n",
      "Requirement already satisfied: torch!=1.8.0,>=1.7.0 in /Users/koechian/anaconda3/envs/skillexplore/lib/python3.10/site-packages (from simplet5) (2.1.0)\n",
      "Requirement already satisfied: pytorch-lightning==1.5.10 in /Users/koechian/anaconda3/envs/skillexplore/lib/python3.10/site-packages (from simplet5) (1.5.10)\n",
      "Requirement already satisfied: filelock in /Users/koechian/anaconda3/envs/skillexplore/lib/python3.10/site-packages (from transformers) (3.13.1)\n",
      "Requirement already satisfied: huggingface-hub<1.0,>=0.1.0 in /Users/koechian/anaconda3/envs/skillexplore/lib/python3.10/site-packages (from transformers) (0.20.1)\n",
      "Requirement already satisfied: packaging>=20.0 in /Users/koechian/anaconda3/envs/skillexplore/lib/python3.10/site-packages (from transformers) (23.1)\n",
      "Requirement already satisfied: pyyaml>=5.1 in /Users/koechian/anaconda3/envs/skillexplore/lib/python3.10/site-packages (from transformers) (6.0.1)\n",
      "Requirement already satisfied: regex!=2019.12.17 in /Users/koechian/anaconda3/envs/skillexplore/lib/python3.10/site-packages (from transformers) (2023.10.3)\n",
      "Requirement already satisfied: requests in /Users/koechian/anaconda3/envs/skillexplore/lib/python3.10/site-packages (from transformers) (2.31.0)\n",
      "Requirement already satisfied: sacremoses in /Users/koechian/anaconda3/envs/skillexplore/lib/python3.10/site-packages (from transformers) (0.1.1)\n",
      "Requirement already satisfied: tokenizers!=0.11.3,>=0.10.1 in /Users/koechian/anaconda3/envs/skillexplore/lib/python3.10/site-packages (from transformers) (0.15.0)\n",
      "Requirement already satisfied: tqdm>=4.27 in /Users/koechian/anaconda3/envs/skillexplore/lib/python3.10/site-packages (from transformers) (4.65.0)\n",
      "Requirement already satisfied: future>=0.17.1 in /Users/koechian/anaconda3/envs/skillexplore/lib/python3.10/site-packages (from pytorch-lightning==1.5.10->simplet5) (0.18.3)\n",
      "Requirement already satisfied: fsspec!=2021.06.0,>=2021.05.0 in /Users/koechian/anaconda3/envs/skillexplore/lib/python3.10/site-packages (from fsspec[http]!=2021.06.0,>=2021.05.0->pytorch-lightning==1.5.10->simplet5) (2023.10.0)\n",
      "Requirement already satisfied: tensorboard>=2.2.0 in /Users/koechian/anaconda3/envs/skillexplore/lib/python3.10/site-packages (from pytorch-lightning==1.5.10->simplet5) (2.14.1)\n",
      "Requirement already satisfied: torchmetrics>=0.4.1 in /Users/koechian/anaconda3/envs/skillexplore/lib/python3.10/site-packages (from pytorch-lightning==1.5.10->simplet5) (1.2.1)\n",
      "Requirement already satisfied: pyDeprecate==0.3.1 in /Users/koechian/anaconda3/envs/skillexplore/lib/python3.10/site-packages (from pytorch-lightning==1.5.10->simplet5) (0.3.1)\n",
      "Requirement already satisfied: typing-extensions in /Users/koechian/anaconda3/envs/skillexplore/lib/python3.10/site-packages (from pytorch-lightning==1.5.10->simplet5) (4.7.1)\n",
      "Requirement already satisfied: setuptools==59.5.0 in /Users/koechian/anaconda3/envs/skillexplore/lib/python3.10/site-packages (from pytorch-lightning==1.5.10->simplet5) (59.5.0)\n",
      "Requirement already satisfied: sympy in /Users/koechian/anaconda3/envs/skillexplore/lib/python3.10/site-packages (from torch!=1.8.0,>=1.7.0->simplet5) (1.12)\n",
      "Requirement already satisfied: networkx in /Users/koechian/anaconda3/envs/skillexplore/lib/python3.10/site-packages (from torch!=1.8.0,>=1.7.0->simplet5) (3.1)\n",
      "Requirement already satisfied: jinja2 in /Users/koechian/anaconda3/envs/skillexplore/lib/python3.10/site-packages (from torch!=1.8.0,>=1.7.0->simplet5) (3.1.2)\n",
      "Requirement already satisfied: python-dateutil>=2.8.2 in /Users/koechian/anaconda3/envs/skillexplore/lib/python3.10/site-packages (from pandas->simplet5) (2.8.2)\n",
      "Requirement already satisfied: pytz>=2020.1 in /Users/koechian/anaconda3/envs/skillexplore/lib/python3.10/site-packages (from pandas->simplet5) (2023.3.post1)\n",
      "Requirement already satisfied: tzdata>=2022.1 in /Users/koechian/anaconda3/envs/skillexplore/lib/python3.10/site-packages (from pandas->simplet5) (2023.3)\n",
      "Requirement already satisfied: charset-normalizer<4,>=2 in /Users/koechian/anaconda3/envs/skillexplore/lib/python3.10/site-packages (from requests->transformers) (2.0.4)\n",
      "Requirement already satisfied: idna<4,>=2.5 in /Users/koechian/anaconda3/envs/skillexplore/lib/python3.10/site-packages (from requests->transformers) (3.4)\n",
      "Requirement already satisfied: urllib3<3,>=1.21.1 in /Users/koechian/anaconda3/envs/skillexplore/lib/python3.10/site-packages (from requests->transformers) (1.26.18)\n",
      "Requirement already satisfied: certifi>=2017.4.17 in /Users/koechian/anaconda3/envs/skillexplore/lib/python3.10/site-packages (from requests->transformers) (2023.11.17)\n",
      "Requirement already satisfied: click in /Users/koechian/anaconda3/envs/skillexplore/lib/python3.10/site-packages (from sacremoses->transformers) (8.1.7)\n",
      "Requirement already satisfied: joblib in /Users/koechian/anaconda3/envs/skillexplore/lib/python3.10/site-packages (from sacremoses->transformers) (1.2.0)\n",
      "Requirement already satisfied: aiohttp!=4.0.0a0,!=4.0.0a1 in /Users/koechian/anaconda3/envs/skillexplore/lib/python3.10/site-packages (from fsspec[http]!=2021.06.0,>=2021.05.0->pytorch-lightning==1.5.10->simplet5) (3.9.0)\n",
      "Requirement already satisfied: six>=1.5 in /Users/koechian/anaconda3/envs/skillexplore/lib/python3.10/site-packages (from python-dateutil>=2.8.2->pandas->simplet5) (1.16.0)\n",
      "Requirement already satisfied: absl-py>=0.4 in /Users/koechian/anaconda3/envs/skillexplore/lib/python3.10/site-packages (from tensorboard>=2.2.0->pytorch-lightning==1.5.10->simplet5) (1.4.0)\n",
      "Requirement already satisfied: grpcio>=1.48.2 in /Users/koechian/anaconda3/envs/skillexplore/lib/python3.10/site-packages (from tensorboard>=2.2.0->pytorch-lightning==1.5.10->simplet5) (1.59.2)\n",
      "Requirement already satisfied: google-auth<3,>=1.6.3 in /Users/koechian/anaconda3/envs/skillexplore/lib/python3.10/site-packages (from tensorboard>=2.2.0->pytorch-lightning==1.5.10->simplet5) (2.23.4)\n",
      "Requirement already satisfied: google-auth-oauthlib<1.1,>=0.5 in /Users/koechian/anaconda3/envs/skillexplore/lib/python3.10/site-packages (from tensorboard>=2.2.0->pytorch-lightning==1.5.10->simplet5) (1.0.0)\n",
      "Requirement already satisfied: markdown>=2.6.8 in /Users/koechian/anaconda3/envs/skillexplore/lib/python3.10/site-packages (from tensorboard>=2.2.0->pytorch-lightning==1.5.10->simplet5) (3.5.1)\n",
      "Requirement already satisfied: protobuf>=3.19.6 in /Users/koechian/anaconda3/envs/skillexplore/lib/python3.10/site-packages (from tensorboard>=2.2.0->pytorch-lightning==1.5.10->simplet5) (4.21.12)\n",
      "Requirement already satisfied: tensorboard-data-server<0.8.0,>=0.7.0 in /Users/koechian/anaconda3/envs/skillexplore/lib/python3.10/site-packages (from tensorboard>=2.2.0->pytorch-lightning==1.5.10->simplet5) (0.7.2)\n",
      "Requirement already satisfied: werkzeug>=1.0.1 in /Users/koechian/anaconda3/envs/skillexplore/lib/python3.10/site-packages (from tensorboard>=2.2.0->pytorch-lightning==1.5.10->simplet5) (2.2.3)\n",
      "Requirement already satisfied: lightning-utilities>=0.8.0 in /Users/koechian/anaconda3/envs/skillexplore/lib/python3.10/site-packages (from torchmetrics>=0.4.1->pytorch-lightning==1.5.10->simplet5) (0.10.0)\n",
      "Requirement already satisfied: MarkupSafe>=2.0 in /Users/koechian/anaconda3/envs/skillexplore/lib/python3.10/site-packages (from jinja2->torch!=1.8.0,>=1.7.0->simplet5) (2.1.1)\n",
      "Requirement already satisfied: mpmath>=0.19 in /Users/koechian/anaconda3/envs/skillexplore/lib/python3.10/site-packages (from sympy->torch!=1.8.0,>=1.7.0->simplet5) (1.3.0)\n",
      "Requirement already satisfied: attrs>=17.3.0 in /Users/koechian/anaconda3/envs/skillexplore/lib/python3.10/site-packages (from aiohttp!=4.0.0a0,!=4.0.0a1->fsspec[http]!=2021.06.0,>=2021.05.0->pytorch-lightning==1.5.10->simplet5) (23.1.0)\n",
      "Requirement already satisfied: multidict<7.0,>=4.5 in /Users/koechian/anaconda3/envs/skillexplore/lib/python3.10/site-packages (from aiohttp!=4.0.0a0,!=4.0.0a1->fsspec[http]!=2021.06.0,>=2021.05.0->pytorch-lightning==1.5.10->simplet5) (6.0.4)\n",
      "Requirement already satisfied: yarl<2.0,>=1.0 in /Users/koechian/anaconda3/envs/skillexplore/lib/python3.10/site-packages (from aiohttp!=4.0.0a0,!=4.0.0a1->fsspec[http]!=2021.06.0,>=2021.05.0->pytorch-lightning==1.5.10->simplet5) (1.9.3)\n",
      "Requirement already satisfied: frozenlist>=1.1.1 in /Users/koechian/anaconda3/envs/skillexplore/lib/python3.10/site-packages (from aiohttp!=4.0.0a0,!=4.0.0a1->fsspec[http]!=2021.06.0,>=2021.05.0->pytorch-lightning==1.5.10->simplet5) (1.4.0)\n",
      "Requirement already satisfied: aiosignal>=1.1.2 in /Users/koechian/anaconda3/envs/skillexplore/lib/python3.10/site-packages (from aiohttp!=4.0.0a0,!=4.0.0a1->fsspec[http]!=2021.06.0,>=2021.05.0->pytorch-lightning==1.5.10->simplet5) (1.2.0)\n",
      "Requirement already satisfied: async-timeout<5.0,>=4.0 in /Users/koechian/anaconda3/envs/skillexplore/lib/python3.10/site-packages (from aiohttp!=4.0.0a0,!=4.0.0a1->fsspec[http]!=2021.06.0,>=2021.05.0->pytorch-lightning==1.5.10->simplet5) (4.0.3)\n",
      "Requirement already satisfied: cachetools<6.0,>=2.0.0 in /Users/koechian/anaconda3/envs/skillexplore/lib/python3.10/site-packages (from google-auth<3,>=1.6.3->tensorboard>=2.2.0->pytorch-lightning==1.5.10->simplet5) (5.3.2)\n",
      "Requirement already satisfied: pyasn1-modules>=0.2.1 in /Users/koechian/anaconda3/envs/skillexplore/lib/python3.10/site-packages (from google-auth<3,>=1.6.3->tensorboard>=2.2.0->pytorch-lightning==1.5.10->simplet5) (0.3.0)\n",
      "Requirement already satisfied: rsa<5,>=3.1.4 in /Users/koechian/anaconda3/envs/skillexplore/lib/python3.10/site-packages (from google-auth<3,>=1.6.3->tensorboard>=2.2.0->pytorch-lightning==1.5.10->simplet5) (4.9)\n",
      "Requirement already satisfied: requests-oauthlib>=0.7.0 in /Users/koechian/anaconda3/envs/skillexplore/lib/python3.10/site-packages (from google-auth-oauthlib<1.1,>=0.5->tensorboard>=2.2.0->pytorch-lightning==1.5.10->simplet5) (1.3.1)\n",
      "Requirement already satisfied: pyasn1<0.6.0,>=0.4.6 in /Users/koechian/anaconda3/envs/skillexplore/lib/python3.10/site-packages (from pyasn1-modules>=0.2.1->google-auth<3,>=1.6.3->tensorboard>=2.2.0->pytorch-lightning==1.5.10->simplet5) (0.5.0)\n",
      "Requirement already satisfied: oauthlib>=3.0.0 in /Users/koechian/anaconda3/envs/skillexplore/lib/python3.10/site-packages (from requests-oauthlib>=0.7.0->google-auth-oauthlib<1.1,>=0.5->tensorboard>=2.2.0->pytorch-lightning==1.5.10->simplet5) (3.2.2)\n",
      "\u001b[33mDEPRECATION: pytorch-lightning 1.5.10 has a non-standard dependency specifier torch>=1.7.*. pip 24.0 will enforce this behaviour change. A possible replacement is to upgrade to a newer version of pytorch-lightning or contact the author to suggest that they release a version with a conforming dependency specifiers. Discussion can be found at https://github.com/pypa/pip/issues/12063\u001b[0m\u001b[33m\n",
      "\u001b[0mNote: you may need to restart the kernel to use updated packages.\n"
     ]
    }
   ],
   "source": [
    "%pip install simplet5 transformers "
   ]
  },
  {
   "cell_type": "code",
   "execution_count": 29,
   "metadata": {},
   "outputs": [],
   "source": [
    "# from simplet5 import SimpleT5\n",
    "import pickle"
   ]
  },
  {
   "cell_type": "code",
   "execution_count": 30,
   "metadata": {},
   "outputs": [],
   "source": [
    "with open(\"model.pk\", \"rb\") as raw:    \n",
    "    rawModel = pickle.load(raw)"
   ]
  },
  {
   "cell_type": "code",
   "execution_count": 31,
   "metadata": {},
   "outputs": [
    {
     "data": {
      "text/plain": [
       "['I am writing to express my interest in the Ui/UX feature of Safaricom PLC. With a strong background in data analysis and machine learning, I believe I am well-suited for this role. In my current position as a Data Scientist at DEF Solutions, I have gained extensive experience in developing and implementing machine learning models to drive business impact. I have a proven track record of delivering high-quality end-to-end product experiences through innovative solutions. I am proficient in Python, R, and SQL, and have a solid understanding of machine learning algorithms. I am confident that my skills and experience make me a strong candidate for this position. Thank you for considering my application. I look forward to the opportunity to discuss how my skills and experience align with the requirements of the company. Sincerely, Ian Koech']"
      ]
     },
     "execution_count": 31,
     "metadata": {},
     "output_type": "execute_result"
    }
   ],
   "source": [
    "input = 'generate: Ui/UX Safaricom PLC\tIan Koech\tData Analyst at Safaricom,\tData Scientist at DEF Solutions\tPython, R, SQL, machine learning Bachelors degree in Statistics'\n",
    "\n",
    "rawModel.predict(input,  max_length=2048)"
   ]
  }
 ],
 "metadata": {
  "kernelspec": {
   "display_name": "skillexplore",
   "language": "python",
   "name": "python3"
  },
  "language_info": {
   "codemirror_mode": {
    "name": "ipython",
    "version": 3
   },
   "file_extension": ".py",
   "mimetype": "text/x-python",
   "name": "python",
   "nbconvert_exporter": "python",
   "pygments_lexer": "ipython3",
   "version": "3.10.13"
  }
 },
 "nbformat": 4,
 "nbformat_minor": 2
}
